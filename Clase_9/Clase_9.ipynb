{
 "cells": [
  {
   "cell_type": "code",
   "execution_count": 1,
   "metadata": {},
   "outputs": [
    {
     "data": {
      "text/html": [
       "<!-- Mejorar visualización en proyector -->\n",
       "<style>\n",
       ".rendered_html {font-size: 1.2em; line-height: 150%;}\n",
       "div.prompt {min-width: 0ex; }\n",
       ".container {width:95% !important;}\n",
       "</style>\n"
      ],
      "text/plain": [
       "<IPython.core.display.HTML object>"
      ]
     },
     "metadata": {},
     "output_type": "display_data"
    }
   ],
   "source": [
    "%%HTML\n",
    "<!-- Mejorar visualización en proyector -->\n",
    "<style>\n",
    ".rendered_html {font-size: 1.2em; line-height: 150%;}\n",
    "div.prompt {min-width: 0ex; }\n",
    ".container {width:95% !important;}\n",
    "</style>"
   ]
  },
  {
   "cell_type": "markdown",
   "metadata": {},
   "source": [
    "<h1 style=\"text-align:center\">Clase 9: Vibración forzada</h1>\n",
    "<h3 style=\"text-align:center\">ACUS125: Aislamiento y Análisis de Vibraciones</h3>\n",
    "<p style=\"text-align:center\">Dr. Víctor Poblete <br>\n",
    "<a href=\"mailto:vpoblete@uach.cl\">vpoblete@uach.cl</a><br>\n",
    "<a href=\"https://github.com/vpobleteacustica/ACUS125-Aislamiento-y-Analisis-de-Vibraciones\">https://github.com/vpobleteacustica/ACUS125-Aislamiento-y-Analisis-de-Vibraciones</a><br> \n",
    "<a href=\"http://www.acusticauach.cl\">www.acusticauach.cl</a><br> "
   ]
  },
  {
   "cell_type": "markdown",
   "metadata": {},
   "source": [
    "### Vibración amortiguada: \n",
    "> + ver https://web.itu.edu.tr/~gundes/sdof.pdf"
   ]
  },
  {
   "cell_type": "markdown",
   "metadata": {},
   "source": [
    "### Consideremos el análisis de un sistema de un grado de libertad que puede sufrir vibraciones no deseadas en dos situaciones:"
   ]
  },
  {
   "cell_type": "markdown",
   "metadata": {},
   "source": [
    "<p style=\"text-align:center\">\n",
    "\t<img src=\"doscasos.png\" alt=\"MDOF\" width=25%/></a><br>\n",
    "    <strong> Figura 1: Sistema masa, resorte y amortiguador, en vibración forzada.</strong>\n",
    "</p>"
   ]
  },
  {
   "cell_type": "markdown",
   "metadata": {},
   "source": [
    "donde:\n",
    "* m = masa,\n",
    "* c = coeficiente de amortiguamiento viscoso,\n",
    "* k = rigidez,\n",
    "+ x(t) = respuesta de desplazamiento de la masa,\n",
    "+ f(t) = fuerza aplicada.\n",
    "* y(t) = desplazamiento de la basa."
   ]
  },
  {
   "cell_type": "markdown",
   "metadata": {},
   "source": [
    "* El caso (a) modela una situación donde posiblemente lo que importa es que se **transmita** poca vibración dañina, **aislando** la base. Por ejemplo, un equipo (máquina) rotatorio, montado sobre un sistema de resortes, se espera que se transmita poca vibración a la base.   \n",
    "* Mientras que el caso (b) modela una situación donde posiblemente lo que importa es **proteger** o **aislar** la masa de los efectos dañinos de la vibración de la base. Por ejemplo, los resortes y amortiguadores en un sistema de suspensión de un vehículo que viaja por una carretera con irregularidades; el sistema de suspensión aisla los asientos de los pasajeros del movimiento inducido por la carretera."
   ]
  },
  {
   "cell_type": "markdown",
   "metadata": {},
   "source": [
    "* El propósito de esta clase es detallar los conceptos que sustentan las **funciones de respuesta de frecuencia**. \n",
    "* Estas funciones son usadas ampliamente en estudios de vibraciones mecánicas y en análisis modal.\n",
    "* El uso de ellas permite identificar frecuencias naturales, amortiguamiento y las formas de vibrar (formas modales) de un sistema o estructura."
   ]
  },
  {
   "cell_type": "markdown",
   "metadata": {},
   "source": [
    "#### Frecuencias naturales"
   ]
  },
  {
   "cell_type": "markdown",
   "metadata": {},
   "source": [
    "* Los sistemas vibratorios en el mundo real pueden ser estructuras físicas, herramientas mecánicas, edificios, puentes, etc.\n",
    "* Una frecuencia **natural** es la frecuencia a la cual la estructura oscilaría si ésta estuviese forzada desde su posición de reposo y luego liberada para vibrar libremente.\n",
    "* **Todas las estructuras tienen al menos, una frecuencia natural.**\n",
    "* La mayoría de las estructuras tienen **múltiples** frecuencias naturales.\n"
   ]
  },
  {
   "cell_type": "markdown",
   "metadata": {},
   "source": [
    "#### Resonancia"
   ]
  },
  {
   "cell_type": "markdown",
   "metadata": {},
   "source": [
    "* **Resonancia** es como se denomina cuando la fuerza aplicada **coincide** con una frecuencia natural de la estructura. \n",
    "* Durante vibración resonante, la respuesta del desplazamiento podría llegar a aumentar tanto que haría colapsar la estructura o que sufra algún tipo de falla. "
   ]
  },
  {
   "cell_type": "markdown",
   "metadata": {},
   "source": [
    "#### Funciones de respuesta de frecuencia (FRFs):\n",
    "> + Ver: https://rotorlab.tamu.edu/me617/intro_freq_resp_functions.pdf"
   ]
  },
  {
   "cell_type": "markdown",
   "metadata": {},
   "source": [
    "* Una de las herramientas más importantes en análisis de vibraciones es la **función de respuesta de frecuencia (FRF)**.\n",
    "* La FRF corresponde a la **función de transferencia** en un sistema lineal (ver Fig. 2) y que se define en el dominio de la frecuencia.\n",
    "* Son funciones complejas, es decir, con una componente real y una imaginaria.\n",
    "* Se representan por su **magnitud** y su **fase**.\n",
    "* Una FRF lo que expresa es **cómo responde** la estructura a una fuerza aplicada, en función de la frecuencia.\n",
    "* La respuesta se puede dar en términos de los parámetros: **desplazamiento** ($x(t)$), **velocidad** ($\\dot{x}(t)$), o **aceleración** ($\\ddot{x}(t)$).\n",
    "* Los parámetros de la respuesta podrían estar en el **numerador,** o bien, en el **denominador** de la FRF."
   ]
  },
  {
   "cell_type": "markdown",
   "metadata": {},
   "source": [
    "#### Función de transferencia para la respuesta de desplazamiento."
   ]
  },
  {
   "cell_type": "markdown",
   "metadata": {},
   "source": [
    "* Consideremos la Fig. 2:"
   ]
  },
  {
   "cell_type": "markdown",
   "metadata": {},
   "source": [
    "<p style=\"text-align:center\">\n",
    "\t<img src=\"sistema.png\" alt=\"MDOF\" width=25%/></a><br>\n",
    "    <strong> Figura 2: Modelo de una estructura vibratoria lineal.</strong>\n",
    "</p>"
   ]
  },
  {
   "cell_type": "markdown",
   "metadata": {},
   "source": [
    "donde\n",
    "* $F(j\\omega)$ es la entrada a la estructura dada por una fuerza de excitación que está expresada como una función de la frecuencia angular $\\omega$.\n",
    "* $H(j\\omega)$ es la función de transferencia expresada en función de la frecuencia angular $\\omega$..\n",
    "* $X(j\\omega)$ es la función de respuesta de desplazamiento de la estructura dada como una función de la frecuencia angular $\\omega$.\n",
    "* Cada una de estas funciones en una **función espectral compleja**. Esto es, cada una de ellas es una **transformada de Fourier**.\n",
    "* Se representan en términos de su magnitud y fase."
   ]
  },
  {
   "cell_type": "markdown",
   "metadata": {},
   "source": [
    "#### Teorema de convolución transformada de Fourier:"
   ]
  },
  {
   "cell_type": "markdown",
   "metadata": {},
   "source": [
    "* Si,\n",
    "\n",
    "\\begin{align*}\n",
    "\t\t\\large F(j\\omega) &=\\large \\mathscr{F}\\left\\{f(t)\\right\\},\\\\\n",
    "\t\t\\large f(t) & = \\large \\mathscr{F}^{-1}\\big\\{F(j\\omega)\\big\\},\\\\\n",
    "\t\t\\large f(t) & \\large \\overset{\\mathscr{F}}{\\longleftrightarrow} F(j\\omega)\n",
    "\\end{align*}"
   ]
  },
  {
   "cell_type": "markdown",
   "metadata": {},
   "source": [
    "Y, \n",
    "\\begin{align*}\n",
    "\t\t\\large H(j\\omega) &  =\\large \\mathscr{F}\\left\\{h(t)\\right\\},\\\\\n",
    "\t\t\\large h(t) & = \\large \\mathscr{F}^{-1}\\big\\{H(j\\omega)\\big\\},\\\\\n",
    "\t\t\\large h(t) & \\large \\overset{\\mathscr{F}}{\\longleftrightarrow} H(j\\omega)\n",
    "\\end{align*}"
   ]
  },
  {
   "cell_type": "markdown",
   "metadata": {},
   "source": [
    "Y si,\n",
    "\\begin{align*}\n",
    "\t\t\\large x(t) & =  \\large f(t)*h(t)\n",
    "\\end{align*}"
   ]
  },
  {
   "cell_type": "markdown",
   "metadata": {},
   "source": [
    "* Entonces, la convolución en el tiempo, implica **multiplicación de las correspondientes transformadas de Fourier**:\n",
    "\n",
    "\\begin{align*}\n",
    "\t\t\\large X(j\\omega) & = \\large F(j\\omega)\\large \\cdot H(j\\omega)\n",
    "\t\\label{Prop3}\n",
    "\\end{align*}"
   ]
  },
  {
   "cell_type": "markdown",
   "metadata": {},
   "source": [
    "* de donde se despeja la función de transferencia,\n",
    "\\begin{align}\n",
    "\\large H(j\\omega) & = \\large\\frac{X(j\\omega)}{F(j\\omega)}\n",
    "\\end{align}\n"
   ]
  },
  {
   "cell_type": "markdown",
   "metadata": {},
   "source": [
    "* Se podrían obtener también las funciones de transferencia para las respuestas de velocidad y de acceleration."
   ]
  },
  {
   "cell_type": "markdown",
   "metadata": {},
   "source": [
    "#### Nomenclatura:"
   ]
  },
  {
   "cell_type": "markdown",
   "metadata": {},
   "source": [
    "* Existen seis tipos diferentes de funciones de transferencia:"
   ]
  },
  {
   "cell_type": "markdown",
   "metadata": {},
   "source": [
    "* **Tabla 1:** Nombres de las FRFs."
   ]
  },
  {
   "cell_type": "markdown",
   "metadata": {},
   "source": [
    "|  **Dimensión** |1) $\\Large\\frac{X}{F}$ |2) $\\Large\\frac{V}{F}$ | 3) $ \\Large\\frac{A}{F}$ |   |\n",
    "|---             |---                    |---                    |---                      |   |\n",
    "|**Nombre**      |Admitancia,            |Movilidad              |  Acelerancia            |   |\n",
    "|                |Compliance,            |                       |  Inertancia             |   |\n",
    "|                |Receptancia.           |                       |                         |   |\n",
    "|---             |---                    |---                    |---                      |   |"
   ]
  },
  {
   "cell_type": "markdown",
   "metadata": {},
   "source": [
    "* **Tabla 2:** Nombres de las FRFs."
   ]
  },
  {
   "cell_type": "markdown",
   "metadata": {},
   "source": [
    "|  **Dimensión** |4) $\\Large\\frac{F}{X}$ |5) $\\Large\\frac{F}{V}$ | 6) $ \\Large\\frac{F}{A}$ |   |\n",
    "|---             |---                    |---                    |---                      |   |\n",
    "|**Nombre**      |Rigidez dinámica       |Impedancia mecánica    | Masa aparente,          |   |\n",
    "|                |                       |                       | Masa dinámica           |   |\n",
    "|                |                       |                       |                         |   | \n",
    "|---             |---                    |---                    |---                      |   |"
   ]
  },
  {
   "cell_type": "markdown",
   "metadata": {},
   "source": [
    "#### Ecuaciones algebraicas de las FRFs:"
   ]
  },
  {
   "cell_type": "markdown",
   "metadata": {},
   "source": [
    "* Propiedad de la transformada de Fourier de la derivada temporal:"
   ]
  },
  {
   "cell_type": "markdown",
   "metadata": {},
   "source": [
    "* La transformada de Fourier de $\\large \\frac{dx(t)}{dt}$ es igual a $j\\omega\\cdot X(j\\omega)$:"
   ]
  },
  {
   "cell_type": "markdown",
   "metadata": {},
   "source": [
    "\\begin{align*}\n",
    "\t\t\\large \\mathscr{F}\\left\\{\\frac{dx(t)}{dt}\\right\\} &=\\large j\\omega\\cdot X(j\\omega)\n",
    "\\end{align*}"
   ]
  },
  {
   "cell_type": "markdown",
   "metadata": {},
   "source": [
    "* Demostración:"
   ]
  },
  {
   "cell_type": "markdown",
   "metadata": {},
   "source": [
    "Derivamos la transformada inversa de Fourier con respecto a $t$ para obtener:"
   ]
  },
  {
   "cell_type": "markdown",
   "metadata": {},
   "source": [
    "\\begin{align*}\n",
    "        \\large x(t) & =\\large \\mathscr{F}^{-1}\\big\\{X(j\\omega)\\big\\}\\\\ \n",
    "                    & =\\large \\frac{1}{2\\pi} \\int_{-\\infty}^{\\infty} X(j\\omega) \\,e^{j\\omega t}d\\omega\\quad \\,\\,\\,{\\huge/}\\,\\,\\,\\frac{d}{dt}\\\\\n",
    "        \\large \\dot{x}(t)            & = \\large \\frac{d}{dt}\\left( \\frac{1}{2\\pi}\\int_{-\\infty}^{\\infty}X(j\\omega) \\,e^{j\\omega t}d\\omega \\right)\\\\\n",
    "        & = \\large \\frac{1}{2\\pi}\\int_{-\\infty}^{\\infty}X(j\\omega)\\frac{d}{dt}\\left( e^{j\\omega t} \\right) d\\omega\\\\\n",
    "        & = \\large \\frac{1}{2\\pi}\\int_{-\\infty}^{\\infty}\\left[j\\omega \\cdot X(j\\omega)\\right]e^{j\\omega t} d\\omega\n",
    "\\end{align*}"
   ]
  },
  {
   "cell_type": "markdown",
   "metadata": {},
   "source": [
    "* Así,\n",
    "\\begin{align*}\n",
    "    \\large \\dot{x}(t)            & = \\large \\mathscr{F}^{-1}\\big\\{j\\omega \\cdot X(j\\omega)\\big\\}\n",
    "\\end{align*}"
   ]
  },
  {
   "cell_type": "markdown",
   "metadata": {},
   "source": [
    "\\begin{align*}\n",
    "        \\large \\dot{x}(t)            & = \\large \\mathscr{F}^{-1}\\big\\{j\\omega \\cdot X(j\\omega)\\big\\}\\quad \\,\\,\\,{\\huge/}\\mathscr{F}\\left\\{\\cdot\\right\\}\\\\\n",
    "        \\large \\mathscr{F}\\left\\{\\dot{x}(t)\\right\\} & = \\large j\\omega \\cdot X(j\\omega)\n",
    "\\end{align*}"
   ]
  },
  {
   "cell_type": "markdown",
   "metadata": {},
   "source": [
    "* De igual manera se demuestra que:\n",
    "\\begin{align*}\n",
    "        \\large \\mathscr{F}\\left\\{\\ddot{x}(t)\\right\\} & = \\large \\left(j\\omega\\right)^{2} \\cdot X(j\\omega)\n",
    "\\end{align*}"
   ]
  },
  {
   "cell_type": "markdown",
   "metadata": {},
   "source": [
    "* Y, en general,\n",
    "\\begin{align*}\n",
    "        \\large \\mathscr{F}\\left\\{\\frac{d^{n}x(t)}{dt^{n}}\\right\\} & = \\large \\left(j\\omega\\right)^{n} \\cdot X(j\\omega)\n",
    "\\end{align*}"
   ]
  },
  {
   "cell_type": "markdown",
   "metadata": {},
   "source": [
    "#### Obtención de la función de transferencia Receptancia."
   ]
  },
  {
   "cell_type": "markdown",
   "metadata": {},
   "source": [
    "* Ecuación de movimiento:"
   ]
  },
  {
   "cell_type": "markdown",
   "metadata": {},
   "source": [
    "\\begin{align*}\n",
    "\\large \\ddot{x}(t)+2\\zeta \\omega_{0}\\,\\dot{x}(t)+\\omega_{0}^{2}\\,x(t)&=\\large \\frac{f(t)}{m}\n",
    "\\end{align*}"
   ]
  },
  {
   "cell_type": "markdown",
   "metadata": {},
   "source": [
    "* O bien, dado que $\\omega_{0}^{2}=\\frac{k}{m}$, entonces:"
   ]
  },
  {
   "cell_type": "markdown",
   "metadata": {},
   "source": [
    "\\begin{align*}\n",
    "\\large \\ddot{x}(t)+2\\zeta \\omega_{0}\\,\\dot{x}(t)+\\omega_{0}^{2}\\,x(t)& = \\large \\frac{1}{k}\\omega_{0}^{2}f(t)\\quad \\,\\,\\,{\\huge/}\\mathscr{F}\\left\\{\\cdot\\right\\}\n",
    "\\end{align*}"
   ]
  },
  {
   "cell_type": "markdown",
   "metadata": {},
   "source": [
    "* Se obtiene,\n",
    "\n",
    "\\begin{align}\n",
    "\\large\\frac{X(j\\omega)}{F(j\\omega)} &=\\large \\frac{\\frac{\\omega_{0}^{2}}{k}}{\\left[ \\omega_{0}^{2} - \\omega^{2} \\right] + j (2\\zeta \\omega_{0}\\omega)}\n",
    "\\end{align}"
   ]
  },
  {
   "cell_type": "code",
   "execution_count": 2,
   "metadata": {},
   "outputs": [
    {
     "name": "stderr",
     "output_type": "stream",
     "text": [
      "findfont: Font family ['nunito'] not found. Falling back to DejaVu Sans.\n",
      "findfont: Font family ['nunito'] not found. Falling back to DejaVu Sans.\n"
     ]
    },
    {
     "data": {
      "image/png": "[encoded data removed]",
      "text/plain": [
       "<Figure size 576x360 with 1 Axes>"
      ]
     },
     "metadata": {
      "needs_background": "light"
     },
     "output_type": "display_data"
    }
   ],
   "source": [
    "import numpy as np\n",
    "# Queremos mostrar todos los gráficos en uno sólo y no en ventanas separadas.\n",
    "%matplotlib inline\n",
    "# Importamos el módulo \"matplotlib.pyplot\" y lo abreviamos con el apodo plt.\n",
    "import matplotlib.pyplot as plt\n",
    "from matplotlib.ticker import EngFormatter # https://matplotlib.org/3.1.1/gallery/text_labels_and_annotations/engineering_formatter.html\n",
    "\n",
    "m   = 1               # masa 1 kg\n",
    "f0  = 100             # frecuencia natural f0= 100 Hz  ( w0 = 628.32 rad/s )\n",
    "w0  = f0 * 2 * np.pi  # a rad/s\n",
    "k   = m*w0**2 # rigidez k = 3.948e+05 N/m\n",
    "z   = 0.05 # factor de amortiguamiento ξ = 0.05\n",
    "w   = np.logspace(0,4,1000)\n",
    "\n",
    "NAD   = (w0**2/k)\n",
    "DAD   = (w0**2 -w**2) +1.j*2*z*w0*w\n",
    "FRFAD = NAD/DAD\n",
    "\n",
    "fig = plt.figure(figsize=(8, 5))\n",
    "ax = plt.gca()\n",
    "    \n",
    "plt.subplots_adjust(bottom = 0.1    , left = 0.1     , top = 0.96, right = 0.96)\n",
    "plt.setp(ax.get_ymajorticklabels(), family = 'nunito', fontsize = 16)\n",
    "plt.setp(ax.get_xmajorticklabels(), family = 'nunito', fontsize = 16)\n",
    "    \n",
    "ax.spines['top'].set_color('none')\n",
    "ax.spines['right'].set_color('none')\n",
    "ax.yaxis.set_ticks_position('left')\n",
    "ax.xaxis.set_ticks_position('bottom')\n",
    "ax.grid(True, linestyle='--', color='0.5')\n",
    "ax.set_axisbelow(True)\n",
    "#ax.loglog(w/(2*np.pi),np.abs(FRFA),'b',linewidth = 3.0)\n",
    "ax.plot(w/(2*np.pi),np.abs(FRFAD),'b',linewidth = 3.0)\n",
    "plt.yscale('log')\n",
    "plt.xscale('log')\n",
    "ax.set_xlabel('Frecuencia de excitación',family='nunito', fontsize=16, weight='bold', labelpad=10)\n",
    "ax.set_ylabel('Receptancia ($(m)/N$)', color='k',family='nunito', fontsize=16, weight='bold', labelpad=10)\n",
    "ax.set_title('Magnitud de la Receptancia ($desplazamiento/fuerza$) \\n Sistema de 1DOF: masa $1\\,kg$; $f_{0}=100\\,Hz$; $\\zeta=0.05$')\n",
    "formatter0 = EngFormatter(unit='Hz')\n",
    "ax.xaxis.set_major_formatter(formatter0)\n",
    "plt.ylim(0.0000001, 0.000100)\n",
    "plt.xlim(1, 1000)\n",
    "plt.grid(True,which=\"both\",ls=\"--\")\n",
    "for tl in ax.get_yticklabels():\n",
    "    tl.set_color('k')"
   ]
  },
  {
   "cell_type": "code",
   "execution_count": 3,
   "metadata": {},
   "outputs": [
    {
     "data": {
      "text/plain": [
       "Text(0, 0.5, 'Fase (grados)')"
      ]
     },
     "execution_count": 3,
     "metadata": {},
     "output_type": "execute_result"
    },
    {
     "data": {
      "image/png": "[encoded data removed]",
      "text/plain": [
       "<Figure size 576x360 with 1 Axes>"
      ]
     },
     "metadata": {
      "needs_background": "light"
     },
     "output_type": "display_data"
    }
   ],
   "source": [
    "from matplotlib.ticker import EngFormatter\n",
    "N  = 2*z*w*w0 # parte imag\n",
    "D  = (w0**2) - (w**2) # parte real\n",
    "#phi_FRFA = (np.pi- np.angle(FRFA))*180/np.pi  # *180/np.pi pasa la salida a grados, por defecto está en radianes\n",
    "phi_FRFA = np.arctan2(N,D)*180/np.pi # 𝑝ℎ𝑎𝑠𝑒:=𝑎𝑡𝑎𝑛2(N.𝑖𝑚𝑎𝑔,D.𝑟𝑒𝑎𝑙)\n",
    "# Definimos aspectos generales de la figura, después graficamos resultado\n",
    "fig = plt.figure(figsize=(8, 5))\n",
    "ax = plt.gca()\n",
    "\n",
    "plt.subplots_adjust(bottom = 0.1    , left = 0.1     , top = 0.96, right = 0.96)\n",
    "plt.setp(ax.get_ymajorticklabels(), family = 'nunito', fontsize = 16)\n",
    "plt.setp(ax.get_xmajorticklabels(), family = 'nunito', fontsize = 16)\n",
    "ax.spines['top'].set_color('none')\n",
    "ax.spines['right'].set_color('none')\n",
    "ax.yaxis.set_ticks_position('left')\n",
    "ax.xaxis.set_ticks_position('bottom')\n",
    "ax.grid(True, linestyle='--', color='0.5')\n",
    "ax.set_axisbelow(True)\n",
    "ax.semilogx(w/(2*np.pi),phi_FRFA,'b',linewidth = 3.0)\n",
    "plt.grid(True,which=\"both\",ls=\"--\")\n",
    "formatter0 = EngFormatter(unit='Hz')\n",
    "ax.xaxis.set_major_formatter(formatter0)\n",
    "ax.set_xlabel('Frecuencia de excitación',family='nunito', fontsize=16, weight='bold', labelpad=10)\n",
    "ax.set_ylabel('Fase (grados)', color='k',family='nunito', fontsize=16, weight='bold', labelpad=10)"
   ]
  },
  {
   "cell_type": "code",
   "execution_count": null,
   "metadata": {},
   "outputs": [],
   "source": []
  }
 ],
 "metadata": {
  "kernelspec": {
   "display_name": "Python 3",
   "language": "python",
   "name": "python3"
  },
  "language_info": {
   "codemirror_mode": {
    "name": "ipython",
    "version": 3
   },
   "file_extension": ".py",
   "mimetype": "text/x-python",
   "name": "python",
   "nbconvert_exporter": "python",
   "pygments_lexer": "ipython3",
   "version": "3.6.9"
  }
 },
 "nbformat": 4,
 "nbformat_minor": 4
}
