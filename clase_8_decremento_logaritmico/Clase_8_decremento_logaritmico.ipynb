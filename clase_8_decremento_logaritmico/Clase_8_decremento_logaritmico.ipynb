{
 "cells": [
  {
   "cell_type": "code",
   "execution_count": 1,
   "metadata": {},
   "outputs": [
    {
     "data": {
      "text/html": [
       "<!-- Mejorar visualización en proyector -->\n",
       "<style>\n",
       ".rendered_html {font-size: 1.2em; line-height: 150%;}\n",
       "div.prompt {min-width: 0ex; }\n",
       ".container {width:95% !important;}\n",
       "</style>\n"
      ],
      "text/plain": [
       "<IPython.core.display.HTML object>"
      ]
     },
     "metadata": {},
     "output_type": "display_data"
    }
   ],
   "source": [
    "%%HTML\n",
    "<!-- Mejorar visualización en proyector -->\n",
    "<style>\n",
    ".rendered_html {font-size: 1.2em; line-height: 150%;}\n",
    "div.prompt {min-width: 0ex; }\n",
    ".container {width:95% !important;}\n",
    "</style>"
   ]
  },
  {
   "cell_type": "markdown",
   "metadata": {},
   "source": [
    "<h1 style=\"text-align:center\">Clase 8: Decremento logarítmico $\\delta$ </h1>\n",
    "<h3 style=\"text-align:center\">ACUS125: Aislamiento y Análisis de Vibraciones</h3>\n",
    "<p style=\"text-align:center\">Dr. Víctor Poblete <br>\n",
    "<a href=\"mailto:vpoblete@uach.cl\">vpoblete@uach.cl</a><br>\n",
    "<a href=\"https://github.com/vpobleteacustica/ACUS125-Aislamiento-y-Analisis-de-Vibraciones\">https://github.com/vpobleteacustica/ACUS125-Aislamiento-y-Analisis-de-Vibraciones</a><br> \n",
    "<a href=\"http://www.acusticauach.cl\">www.acusticauach.cl</a><br> "
   ]
  },
  {
   "cell_type": "markdown",
   "metadata": {},
   "source": [
    "### 1. El decremento logarítmico"
   ]
  },
  {
   "cell_type": "markdown",
   "metadata": {},
   "source": [
    "Se define para vibraciones libres sub-amortiguadas, como la razón a la cual disminuye la amplitud de la vibración libre de un sistema masa, resorte y amortiguador, como el que se muestra en la Fig. 1."
   ]
  },
  {
   "cell_type": "markdown",
   "metadata": {},
   "source": [
    "<p style=\"text-align:center\">\n",
    "\t<img src=\"1.png\" alt=\"MDOF\" width=25%/></a><br>\n",
    "    <strong> Figura 1: Sistema sub-amortiguado ($\\,0\\,<\\, \\zeta\\,<\\,1\\,$) masa, resorte y amortiguador, en vibración libre.</strong>\n",
    "</p>"
   ]
  },
  {
   "cell_type": "markdown",
   "metadata": {},
   "source": [
    "* La ecuación clásica de movimiento de este sistema, escrita en términos de la frecuencia angular natural $\\omega_{0}$ y de la razón de amortiguamiento $\\zeta$ (cantidad que no tiene unidades), es:"
   ]
  },
  {
   "cell_type": "markdown",
   "metadata": {},
   "source": [
    "\\begin{align*}\n",
    "\\ddot{x}(t)+2\\zeta \\omega_{0}\\,\\dot{x}(t)+\\omega_{0}^{2}\\,x(t)&=0\n",
    "\\label{eq1}\\tag{1}\n",
    "\\end{align*}"
   ]
  },
  {
   "cell_type": "markdown",
   "metadata": {},
   "source": [
    "donde\n",
    "\\begin{align*}\n",
    "\\zeta &=\\frac{c}{2\\,\\sqrt{k\\,m}}\n",
    "\\label{eq2}\\tag{2}\n",
    "\\end{align*}"
   ]
  },
  {
   "cell_type": "markdown",
   "metadata": {},
   "source": [
    "donde c es el coeficiente de amortiguamiento viscoso del amortiguador en la Fig. 1. Usando las condiciones iniciales, "
   ]
  },
  {
   "cell_type": "markdown",
   "metadata": {},
   "source": [
    "\\begin{align*}\n",
    "x(0)&=x_{0}\n",
    "\\label{eq3}\\tag{3}\n",
    "\\end{align*}"
   ]
  },
  {
   "cell_type": "markdown",
   "metadata": {},
   "source": [
    "\\begin{align*}\n",
    "\\dot{x}(0)&=\\dot{x}_{0}\n",
    "\\label{eq4}\\tag{4}\n",
    "\\end{align*}"
   ]
  },
  {
   "cell_type": "markdown",
   "metadata": {},
   "source": [
    "una de las formas que tiene la solución para la Ec. ([1](#mjx-eqn-eq1)) es:"
   ]
  },
  {
   "cell_type": "markdown",
   "metadata": {},
   "source": [
    "\\begin{align*}\n",
    "x(t)&=Ae^{-\\zeta\\omega_{0}t}\\,{\\text{cos}}\\big( \\omega_{d}t-\\phi_{d}\\big)\n",
    "\\label{eq5}\\tag{5}\n",
    "\\end{align*}"
   ]
  },
  {
   "cell_type": "markdown",
   "metadata": {},
   "source": [
    "con"
   ]
  },
  {
   "cell_type": "markdown",
   "metadata": {},
   "source": [
    "\\begin{align*}\n",
    "A&=\\sqrt{x_{0}^{2}+\\big(\\frac{\\dot{x}(0)+\\zeta\\omega_{0}x_{0}}{\\omega_{d}}\\big)^{2}}\n",
    "\\label{eq6}\\tag{6}\n",
    "\\end{align*}"
   ]
  },
  {
   "cell_type": "markdown",
   "metadata": {},
   "source": [
    "\\begin{align*}\n",
    "\\phi_{d}&={\\text{tan}}^{-1}\\bigg( \\frac{x_{0}\\omega_{d}}{\\dot{x}_{0}+\\zeta\\omega_{0}x_{0}} \\bigg)\n",
    "\\label{eq7}\\tag{7}\n",
    "\\end{align*}"
   ]
  },
  {
   "cell_type": "markdown",
   "metadata": {},
   "source": [
    "\\begin{align*}\n",
    "\\omega_{d}&=\\omega_{0}\\sqrt{1-\\zeta^{2}}\n",
    "\\label{eq8}\\tag{8}\n",
    "\\end{align*}"
   ]
  },
  {
   "cell_type": "markdown",
   "metadata": {},
   "source": [
    "siendo $\\omega_{d}$ la **frecuencia angular natural amortiguada** (rad/s); $\\omega_{0}=\\sqrt{k/m}$ la frecuencia angular natural (rad/s) y $T_{d}$ el período de la **vibración sub-amortiguada, libre**, también llamado **período amortiguado**, dado por:"
   ]
  },
  {
   "cell_type": "markdown",
   "metadata": {},
   "source": [
    "\\begin{align*}\n",
    "T_{d}&=\\frac{2\\pi}{\\omega_{d}}\n",
    "\\label{eq9}\\tag{9}\n",
    "\\end{align*}"
   ]
  },
  {
   "cell_type": "markdown",
   "metadata": {},
   "source": [
    "### Medición de los parámetros del sistema: $m$, $k$ y $c$"
   ]
  },
  {
   "cell_type": "markdown",
   "metadata": {},
   "source": [
    "#### - El valor de la masa, $m$, se puede obtener a través de su peso: $\\large m = \\frac{W}{g}$"
   ]
  },
  {
   "cell_type": "markdown",
   "metadata": {},
   "source": [
    "#### - El valor de la rigidez del resorte, $k$, se puede obtener al estirar un resorte con una fuerza creciente y midiendo la elongación o estiramiento (lineal) del resorte, y luego, calculando la derivada en un gráfico de la fuerza versus el estiramiento. "
   ]
  },
  {
   "cell_type": "markdown",
   "metadata": {},
   "source": [
    "#### - El valor de $\\large c$ es más complejo de medir. Se mide primero $\\zeta$ en lugar de $\\large c$ y una vez obtenido el valor de $\\zeta$, se despeja $\\large c$ de la ecuación: $\\zeta = \\large\\frac{c}{2\\,m\\,\\omega_{0}},$ donde $\\omega_{0}=\\sqrt{k/m}$ es la frecuencia angular natural (rad/s)."
   ]
  },
  {
   "cell_type": "markdown",
   "metadata": {},
   "source": [
    "<p style=\"text-align:center\">\n",
    "\t<img src=\"decre.png\" alt=\"MDOF\" width=45%/></a><br>\n",
    "    <strong> Figura 2: Desplazamiento $x(t)$ del tiempo sistema sub-amortiguado: masa, resorte y amortiguador, en vibración libre.</strong>\n",
    "</p>"
   ]
  },
  {
   "cell_type": "markdown",
   "metadata": {},
   "source": [
    "#### - Definición: Decremento logarítmico $\\large \\delta:$"
   ]
  },
  {
   "cell_type": "markdown",
   "metadata": {},
   "source": [
    "#### $\\large \\delta = \\text{ln}\\left( \\frac{x_{0}}{x_{1}} \\right) = \\frac{2\\,\\pi\\,\\zeta}{\\sqrt{1-\\zeta^{2}}}$"
   ]
  },
  {
   "cell_type": "markdown",
   "metadata": {},
   "source": [
    "#### Esto significa que si medimos los desplazamientos peaks en dos tiempos diferentes, separados por un período, podemos determinar el valor de $\\large \\zeta,$ y luego, obtener el valor de $\\large c.$"
   ]
  },
  {
   "cell_type": "markdown",
   "metadata": {},
   "source": [
    "#### Ejercicio 1: \n",
    "La respuesta libre de un sistema amortiguado de un grado de libertad con masa $m = 2 \\,[kg]$ se mide y tiene la forma mostrada en la Fig. 3. El valor de la rigidez del resorte es $k = 1.5\\times 10^{3} \\,[N/m].$ El desplazamiento que alcanza en el primer peak es 1 [mm], mientras que en el segundo peak es de 0.1 [mm]. Calcular $\\zeta$ y $c$."
   ]
  },
  {
   "cell_type": "markdown",
   "metadata": {},
   "source": [
    "<p style=\"text-align:center\">\n",
    "\t<img src=\"ej.png\" alt=\"MDOF\" width=40%/></a><br>\n",
    "    <strong> Figura 3: Ejercicio 1.</strong>\n",
    "</p>"
   ]
  },
  {
   "cell_type": "markdown",
   "metadata": {},
   "source": [
    "#### Ejercicio 2:\n",
    "Sea un sistema de un grado de libertad en vibración libre amortiguada, calcularemos el decremento logarítmico y el factor de amortiguamiento del sistema."
   ]
  },
  {
   "cell_type": "markdown",
   "metadata": {},
   "source": [
    "Para un sistema viscosamente amortiguado se mide el desplazamiento de una vibración, obteniendo que el 75% de la amplitud decae con respecto al peak inmediatamente anterior. Calcular el factor de amortiguamiento $\\zeta$ para el sistema y el coeficiente de amortiguamiento viscoso $c.$"
   ]
  },
  {
   "cell_type": "markdown",
   "metadata": {},
   "source": [
    "<p style=\"text-align:center\">\n",
    "\t<img src=\"ej2.png\" alt=\"MDOF\" width=40%/></a><br>\n",
    "    <strong> Figura 4: Ejercicio 2.</strong>\n",
    "</p>"
   ]
  },
  {
   "cell_type": "markdown",
   "metadata": {},
   "source": [
    "#### Ejercicio 3:"
   ]
  },
  {
   "cell_type": "markdown",
   "metadata": {},
   "source": [
    "#### Usar Python para determinar los peaks de una vibración libre de desplazamiento amortiguado. Crear una función que reciba $\\zeta$ y $\\omega_{0}$. Y retorne los valores peaks de desplazamiento."
   ]
  },
  {
   "cell_type": "code",
   "execution_count": 2,
   "metadata": {},
   "outputs": [
    {
     "name": "stdout",
     "output_type": "stream",
     "text": [
      "X1 = 0.9420243227770497\n",
      "X2 = 0.732282653260106\n",
      "X3 = 0.5690539958616802\n",
      "X4 = 0.44267269292878114\n",
      "X5 = 0.34439721640196713\n",
      "X6 = 0.26785155580006104\n",
      "X7 = 0.20825076608108917\n",
      "X8 = 0.16185909044115304\n",
      "X9 = 0.1258120266826065\n",
      "X10 = 0.09789831237219628\n",
      "X11 = 0.07615277247374462\n",
      "X12 = 0.05921803650933393\n",
      "X13 = 0.04603416471718039\n",
      "X14 = 0.035773763163147454\n",
      "X15 = 0.027825959276164568\n",
      "X16 = 0.02164894408964834\n"
     ]
    },
    {
     "data": {
      "image/png": "[encoded data removed]",
      "text/plain": [
       "<Figure size 720x432 with 1 Axes>"
      ]
     },
     "metadata": {
      "needs_background": "light"
     },
     "output_type": "display_data"
    }
   ],
   "source": [
    "%matplotlib inline\n",
    "import numpy as np\n",
    "import matplotlib.pyplot as plt\n",
    "from scipy.signal import find_peaks\n",
    "\n",
    "def desplazamiento(zeta, omega0):\n",
    "    fig  = plt.figure(figsize=(10,6))\n",
    "    axes = plt.gca()\n",
    "    plt.subplots_adjust(bottom = 0.1, left = 0.1, top = 0.96, right = 0.96)\n",
    "    plt.setp(axes.get_ymajorticklabels(), fontsize = 14)\n",
    "    plt.setp(axes.get_xmajorticklabels(), fontsize = 14)\n",
    "   \n",
    "    omegad   = omega0 * np.sqrt(1 - zeta**2)\n",
    "    t        = np.linspace(0, 50, num=1000)\n",
    "    # Parámetros x(0) = x_{0} y x_dot(0) = x_dot_{0}: son las condiciones inciales.  \n",
    "    x0       = [1.0, 0.0]\n",
    "    A        = np.sqrt(x0[0]**2 + ((x0[1] + zeta*omega0*x0[0])/omegad)**2)\n",
    "    phid     = np.arctan((x0[0]*omegad)/(x0[1] + zeta*omega0*x0[0]))\n",
    "   \n",
    "    #print(phid)\n",
    "    x1        = A*np.exp(-zeta*omega0*t)*np.cos(omegad*t-phid)\n",
    "    plt.plot(t, x1 ,linewidth = 3.0)\n",
    "    peaks, _ = find_peaks(x1, height=0.0011)\n",
    "   \n",
    "    n = 1 # Numero de oscilaciones necesarias para reducir la amplitud\n",
    "    for peak in peaks:\n",
    "        print(\"X\" + str(n) + \" = \" + str(x1[peak]))\n",
    "        line = x1[peak]\n",
    "        plt.axhline(y=line, color='red', linestyle = ':', label='Old') # linestyle = ':' '--'\n",
    "        n = n + 1\n",
    "        plt.xlabel('$t$ (s)', family = 'serif', fontsize = 14, weight = 'bold')\n",
    "        plt.ylabel('Desplazamiento (m)', family = 'serif', fontsize = 14, weight = 'bold')\n",
    "        plt.grid(color = 'k', linestyle='--', linewidth=0.5)\n",
    "        plt.xlim(0,5)\n",
    "   \n",
    "desplazamiento(zeta = 0.04, omega0 = 2)   "
   ]
  },
  {
   "cell_type": "markdown",
   "metadata": {},
   "source": [
    "#### - Uso de barras interactivas:"
   ]
  },
  {
   "cell_type": "code",
   "execution_count": 3,
   "metadata": {},
   "outputs": [
    {
     "data": {
      "application/vnd.jupyter.widget-view+json": {
       "model_id": "d3930ef09ffe4f1d82586a8420aae002",
       "version_major": 2,
       "version_minor": 0
      },
      "text/plain": [
       "interactive(children=(FloatSlider(value=0.49, description='zeta', max=0.999, step=0.01), FloatSlider(value=19.…"
      ]
     },
     "metadata": {},
     "output_type": "display_data"
    }
   ],
   "source": [
    "import ipywidgets as widgets\n",
    "from ipywidgets import interactive\n",
    "from scipy.signal import find_peaks\n",
    "\n",
    "# zeta   : cambios en el factor de amortiguamiento, entre 0 and 0.999 a incremento de 0.01\n",
    "# omega0 : cambios en frecuencia angular natural, entre 0.00001 y 40.0 (rad/s) a incremento de 0.01 (rad/s)\n",
    "interactive_plot = interactive(desplazamiento, zeta = (0, 0.999, 0.01), omega0=(0.00001, 40, 0.01))\n",
    "\n",
    "output = interactive_plot.children[-1]\n",
    "output.layout.height = '2000px'\n",
    "interactive_plot"
   ]
  },
  {
   "cell_type": "code",
   "execution_count": null,
   "metadata": {},
   "outputs": [],
   "source": []
  }
 ],
 "metadata": {
  "kernelspec": {
   "display_name": "acus125-env",
   "language": "python",
   "name": "acus125-env"
  },
  "language_info": {
   "codemirror_mode": {
    "name": "ipython",
    "version": 3
   },
   "file_extension": ".py",
   "mimetype": "text/x-python",
   "name": "python",
   "nbconvert_exporter": "python",
   "pygments_lexer": "ipython3",
   "version": "3.8.3"
  }
 },
 "nbformat": 4,
 "nbformat_minor": 2
}
