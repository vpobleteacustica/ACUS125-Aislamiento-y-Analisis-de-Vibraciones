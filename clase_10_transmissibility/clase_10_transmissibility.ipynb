{
 "cells": [
  {
   "cell_type": "code",
   "execution_count": 1,
   "metadata": {},
   "outputs": [
    {
     "data": {
      "text/html": [
       "<!-- Mejorar visualización en proyector -->\n",
       "<style>\n",
       ".rendered_html {font-size: 1.2em; line-height: 150%;}\n",
       "div.prompt {min-width: 0ex; }\n",
       ".container {width:95% !important;}\n",
       "</style>\n"
      ],
      "text/plain": [
       "<IPython.core.display.HTML object>"
      ]
     },
     "metadata": {},
     "output_type": "display_data"
    }
   ],
   "source": [
    "%%HTML\n",
    "<!-- Mejorar visualización en proyector -->\n",
    "<style>\n",
    ".rendered_html {font-size: 1.2em; line-height: 150%;}\n",
    "div.prompt {min-width: 0ex; }\n",
    ".container {width:95% !important;}\n",
    "</style>"
   ]
  },
  {
   "cell_type": "markdown",
   "metadata": {},
   "source": [
    "<h1 style=\"text-align:center\">Clase 10: Transmisibilidad de desplazamiento </h1>\n",
    "<h3 style=\"text-align:center\">ACUS125: Aislamiento y Análisis de Vibraciones</h3>\n",
    "<p style=\"text-align:center\">Dr. Víctor Poblete <br>\n",
    "<a href=\"mailto:vpoblete@uach.cl\">vpoblete@uach.cl</a><br>\n",
    "<a href=\"https://github.com/vpobleteacustica/ACUS125-Aislamiento-y-Analisis-de-Vibraciones\">https://github.com/vpobleteacustica/ACUS125-Aislamiento-y-Analisis-de-Vibraciones</a><br> \n",
    "<a href=\"http://www.acusticauach.cl\">www.acusticauach.cl</a><br> "
   ]
  },
  {
   "cell_type": "markdown",
   "metadata": {},
   "source": [
    "# Control de las vibraciones:\n",
    "\n",
    "> + La rigidez $k$, el amortiguamiento $c$ y la masa $m$, cumplen roles importantes en el comportamiento de las funciones de transferencia en distintos rangos de frecuencia. Esto tiene importancia a su vez, en el control de las vibraciones.\n",
    "\n",
    "> + Por ejemplo, la magnitud de la función de transferencia que representa el desplazamiento sobre la fuerza, llamada receptancia está dada por:\n",
    "\n",
    "\\begin{align*}\n",
    "\\left|\\frac{X(j\\omega)}{F(j\\omega)}\\right|&=\\large \\frac{1}{m}\\frac{1}{\\sqrt{(\\omega_{0}^{2}-\\omega^{2})^{2}+(2\\zeta \\omega\\omega_{0})^{2} }}\n",
    "\\end{align*}\n",
    "\n",
    "> + Análisis por regiones de frecuencia (ver por ejemplo, capítulo 2.10: https://engfac.cooper.edu/pages/tzavelis/uploads/Vibration%20Theory.pdf):\n",
    "\n",
    ">> + Cuando $\\omega << \\omega_{0}:$ $\\quad$ $\\large\\left|\\frac{X(j\\omega)}{F(j\\omega)}\\right| \\longrightarrow \\large\\frac{1}{k}$ $\\quad$ se dice que el sistema vibratorio está controlado por el resorte.\n",
    "\n",
    ">> + Cuando $\\omega = \\omega_{0}:$ $\\quad$ $\\large\\left|\\frac{X(j\\omega)}{F(j\\omega)}\\right| \\longrightarrow \\large \\frac{1}{c\\cdot \\omega_{0}}$ $\\quad$ se dice que el sistema vibratorio está controlado por el amortiguador.\n",
    "\n",
    ">> + Cuando $\\omega >> \\omega_{0}:$ $\\quad$ $\\large\\left|\\frac{X(j\\omega)}{F(j\\omega)}\\right| \\longrightarrow \\large\\frac{1}{m\\cdot \\omega^{2}}$ $\\quad$ se dice que el sistema vibratorio está controlado por la masa.\n",
    "\n",
    "<p style=\"text-align:center\">\n",
    "\t<img src=\"CONTROLLED.png\" alt=\"MDOF\" width=25%/></a><br>\n",
    "    <strong> Figura 1: Tres condiciones de frecuencia para control de vibraciones.</strong>\n",
    "</p>\n",
    "\n",
    "> + Ver interesante animación en: https://www.acs.psu.edu/drussell/Demos/Resonance-Regions/Resonance.html"
   ]
  },
  {
   "cell_type": "code",
   "execution_count": 3,
   "metadata": {},
   "outputs": [
    {
     "data": {
      "application/vnd.jupyter.widget-view+json": {
       "model_id": "851c6ae053ca486cacb797b90cc7e982",
       "version_major": 2,
       "version_minor": 0
      },
      "text/plain": [
       "interactive(children=(FloatSlider(value=1.05, description='k', max=2.0, min=0.1), FloatSlider(value=0.250005, …"
      ]
     },
     "metadata": {},
     "output_type": "display_data"
    }
   ],
   "source": [
    "import numpy as np\n",
    "from scipy import integrate\n",
    "\n",
    "from matplotlib import pyplot as plt\n",
    "from mpl_toolkits.mplot3d import Axes3D\n",
    "from matplotlib.colors import cnames\n",
    "from matplotlib import animation\n",
    "from ipywidgets import interact, interactive\n",
    "from IPython.display import clear_output, display, HTML\n",
    "\n",
    "import matplotlib.ticker as ticker\n",
    "import numpy as np\n",
    "\n",
    "def transfer_function(k,z,m):\n",
    "    \n",
    "    w     = np.linspace(0,2,500)\n",
    "    w0    = np.sqrt(k/m)\n",
    "    r     = w/w0\n",
    "    FRFAD = 1/(   (k)*np.sqrt( (1-r**2)**2 +(2*z*r)**2  ))\n",
    "\n",
    "    fig = plt.figure(figsize=(8, 5))\n",
    "    ax = plt.gca()\n",
    "    plt.subplots_adjust(bottom = 0.1    , left = 0.1     , top = 0.96, right = 0.96)\n",
    "    plt.setp(ax.get_ymajorticklabels(), family = 'nunito', fontsize = 16)\n",
    "    plt.setp(ax.get_xmajorticklabels(), family = 'nunito', fontsize = 16)\n",
    "    \n",
    "    ax.spines['top'].set_color('none')\n",
    "    ax.spines['right'].set_color('none')\n",
    "    ax.yaxis.set_ticks_position('left')\n",
    "    ax.xaxis.set_ticks_position('bottom')\n",
    "    ax.grid(True, linestyle='--', color='0.5')\n",
    "    ax.set_axisbelow(True)\n",
    "    ax.semilogy(r,FRFAD,'b',linewidth = 3.0)\n",
    "    \n",
    "    ax.set_ylabel('Amplitud', color='k',family='nunito', fontsize=16, weight='bold', labelpad=10)\n",
    "    \n",
    "    plt.xlim(0, 2)\n",
    "    plt.grid(True,which=\"both\",ls=\"--\")\n",
    "    ax.yaxis.set_major_formatter(ticker.FuncFormatter(lambda y,pos: ('{{:.{:1d}f}}'.format(int(np.maximum(-np.log10(y),0)))).format(y)))\n",
    "    ax.set_ylim([0.1, 1000])\n",
    "    \n",
    "    for tl in ax.get_yticklabels():\n",
    "        tl.set_color('k')\n",
    "\n",
    "    return\n",
    "\n",
    "w = interactive(transfer_function, k=(0.1,2.), z=(0.00001, 0.5), m=(0.1,2.))\n",
    "display(w)"
   ]
  },
  {
   "cell_type": "markdown",
   "metadata": {},
   "source": [
    "# Analizar en frecuencia el movimiento que se transmite desde una base móvil hasta una masa\n",
    "\n",
    "> + La excitación está en la base como se muestra en la Figura 2:\n",
    "\n",
    "<p style=\"text-align:center\">\n",
    "\t<img src=\"MovimientoBase.png\" alt=\"MDOF\" width=25%/></a><br>\n",
    "    <strong> Figura 2: Base en vibración $y(t)$. Meirovitch, pag. 128.</strong>\n",
    "</p>\n",
    "\n",
    "> + La masa es lo que nos interesa proteger de las vibraciones.\n",
    "\n",
    "> + La magnitud de la fuerza de excitación será $y(t)$ y en este problema, esta magnitud está dada en términos de un desplazamiento.\n",
    "\n",
    "> + La salida o respuesta del movimiento vibratorio de la masa está dada por $x(t)$.\n",
    "\n",
    "> + Queremos cuantificar (conocer) la magnitud de la fuerza transmitida a la masa $m$.\n",
    "\n",
    "> + Del diagrama de cuerpo libre, obtenemos:\n",
    "\n",
    "\\begin{align*}\n",
    "m\\ddot{x}(t)+c\\,(\\dot{x}(t)-\\dot{y}(t)) + k\\,(x(t)-y(t))& =0\n",
    "\\end{align*}\n",
    "\n",
    "\\begin{align*}\n",
    "\\ddot{x}(t)+2\\zeta \\omega_{0}\\,(\\dot{x}(t)-\\dot{y}(t))+\\omega_{0}^{2}\\,(x(t)-y(t))& =0\n",
    "\\end{align*}\n",
    "\n",
    "\\begin{align*}\n",
    "\\ddot{x}(t)+2\\zeta \\omega_{0}\\,\\dot{x}(t) +\\omega_{0}^{2}x(t)&= 2\\zeta\\omega_{0}\\dot{y}(t)+\\omega_{0}^{2}y(t)\\quad \\,\\,\\,{\\large/}\\mathscr{F}\\left\\{\\cdot\\right\\}\n",
    "\\end{align*}\n",
    "\n",
    "> + $\\ldots$"
   ]
  },
  {
   "cell_type": "markdown",
   "metadata": {},
   "source": [
    "# Función de Transmisibilidad de desplazamiento\n",
    "\n",
    ">+ Podemos obtener la razón entre la magnitud de la respuesta de salida (o magnitud de la fuerza transmitida) y la magnitud de la fuerza de excitación, la que es definida como la función de Transmisibilidad (TR) de desplazamiento:\n",
    "\n",
    "\\begin{align*}\n",
    "TR&= \\left|\\frac{X(j\\omega)}{Y(j\\omega)}\\right|= {\\large \\frac{F_{t}}{F_{e}}} = \\sqrt{ \\frac{1+(2\\zeta r)^{2}}{(1-r^{2})^{2}+(2\\zeta r)^{2} }}\n",
    "\\end{align*}\n",
    "\n",
    "> + Esta nueva función nos ayuda a analizar cómo el movimiento vibratorio se transmite desde la base móvil a la masa $m$, en varias regiones de frecuencia (ver por ejemplo, página 5: http://www.vibrationdata.com/tutorials2/VibrationIsolationBasics.pdf, y https://www.mne.psu.edu/lamancusa/me458/12_vibration.pdf, páginas 12.5 y 12.6).\n",
    "\n",
    "> + El valor de $TR$ es 1 cuando $r\\longrightarrow 0$ es decir, para frecuencias bajas la fuerza total de la base es transmitida a la masa $m$.\n",
    "\n",
    "> + En la región de resonancia, $r=1$, para un sistema sin amortiguamiento ($\\zeta=0$), $TR\\longrightarrow \\infty$, se amplifica dramáticamente la fuerza transmitida a la masa $m$.\n",
    "\n",
    "> + Cuando $r=\\sqrt{2}$ nuevamente la fuerza total de la base es transmitida a la masa $m$.\n",
    "\n",
    "> + El valor de $TR<1$ si se cumple que $r>\\sqrt{2}$, es decir, la fuerza total transmitida a la masa comienza a disminuir en frecuencias altas para $\\forall$ $\\zeta$, (funciona el aislamiento de las vibraciones).\n",
    "\n",
    "> + Aunque, se debe observar que para $r>\\sqrt{2}$, la fuerza transmitida a la masa crece si también aumenta $\\zeta$ por lo que se debe poner atención a este efecto."
   ]
  },
  {
   "cell_type": "markdown",
   "metadata": {},
   "source": [
    "# Tarea: Graficar TR\n",
    "\n",
    "+ Usar distintos valores de $\\zeta$\n",
    "+ Indicar en el gráfico cuál es la zona de aislación."
   ]
  },
  {
   "cell_type": "markdown",
   "metadata": {},
   "source": [
    "# Evaluar la transmisibilidad y analizar cuán eficiente es un aislador para aislar vibraciones no deseadas.\n",
    "\n",
    "> + Suponer que la frecuencia natural de un aislador es igual a 10 Hz.\n",
    "\n",
    "> + Usar un factor de amortiguamiento viscoso igual a 7%.\n",
    "\n",
    "> + Con estos dos valores, graficar la curva de TR versus frecuencia en Hz.\n",
    "\n",
    "<p style=\"text-align:center\">\n",
    "\t<img src=\"TR.png\" alt=\"MDOF\" width=20%/></a><br>\n",
    "    <strong> Figura 1: TR vs frecuencia en Hz.</strong>\n",
    "</p>\n",
    "\n",
    "> + Calcular el valor de amplificación del aislador en resonancia debido al amortiguamiento de 7%.\n",
    "\n",
    "> + Obtener el valor de frecuencia en Hz a partir del cual el aislador comenzará a aislar la vibración no deseada.\n",
    "\n",
    "> + Evaluar la transmisibilidad en 30 Hz $\\left({\\text{TR}}_{30\\,{\\text{Hz}}}\\right)$. Expresar este valor en %. Obtener la reducción de vibración (aislación) en 30 Hz como: $1- \\left({\\text{TR}}_{30\\,{\\text{Hz}}}\\right)$. Expresar este valor en %. \n",
    "\n",
    "> + Qué pasa si agregamos amortiguamiento al asilador? Cambiemos el factor de amortiguamiento viscoso a 20%. Analizar los efectos de aislación y transmisibilidad. Graficar la curva de TR versus frecuencia sobre la misma figura anterior usando otro color.\n",
    "\n",
    "> + Con un factor de amortiguamiento viscoso a 20%, calcular el valor de amplificación del aislador en resonancia.\n",
    "\n",
    "> + Al agregar amortiguamiento al aislador, evaluar la transmisibilidad en 30 Hz y expresarla además, en %. Obtener la reducción de vibración en 30 Hz. Expresar este valor en %."
   ]
  },
  {
   "cell_type": "code",
   "execution_count": null,
   "metadata": {},
   "outputs": [],
   "source": []
  }
 ],
 "metadata": {
  "kernelspec": {
   "display_name": "acus125-env",
   "language": "python",
   "name": "acus125-env"
  }
 },
 "nbformat": 4,
 "nbformat_minor": 4
}
