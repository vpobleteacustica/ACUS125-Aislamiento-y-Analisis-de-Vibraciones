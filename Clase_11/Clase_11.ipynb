{
 "cells": [
  {
   "cell_type": "code",
   "execution_count": 1,
   "metadata": {},
   "outputs": [
    {
     "data": {
      "text/html": [
       "<!-- Mejorar visualización en proyector -->\n",
       "<style>\n",
       ".rendered_html {font-size: 1.2em; line-height: 150%;}\n",
       "div.prompt {min-width: 0ex; }\n",
       ".container {width:95% !important;}\n",
       "</style>\n"
      ],
      "text/plain": [
       "<IPython.core.display.HTML object>"
      ]
     },
     "metadata": {},
     "output_type": "display_data"
    }
   ],
   "source": [
    "%%HTML\n",
    "<!-- Mejorar visualización en proyector -->\n",
    "<style>\n",
    ".rendered_html {font-size: 1.2em; line-height: 150%;}\n",
    "div.prompt {min-width: 0ex; }\n",
    ".container {width:95% !important;}\n",
    "</style>"
   ]
  },
  {
   "cell_type": "markdown",
   "metadata": {},
   "source": [
    "<h1 style=\"text-align:center\">Clase 11: Función de transmisibilidad y aislamiento de vibraciones no deseadas</h1>\n",
    "<h3 style=\"text-align:center\">ACUS125: Aislamiento y Análisis de Vibraciones</h3>\n",
    "<p style=\"text-align:center\">Dr. Víctor Poblete <br>\n",
    "<a href=\"mailto:vpoblete@uach.cl\">vpoblete@uach.cl</a><br>\n",
    "<a href=\"https://github.com/vpobleteacustica/ACUS125-Aislamiento-y-Analisis-de-Vibraciones\">https://github.com/vpobleteacustica/ACUS125-Aislamiento-y-Analisis-de-Vibraciones</a><br> \n",
    "<a href=\"http://www.acusticauach.cl\">www.acusticauach.cl</a><br> "
   ]
  },
  {
   "cell_type": "markdown",
   "metadata": {},
   "source": [
    "### Función de Transmisibilidad\n",
    "\n",
    ">+ Podemos obtener la razón entre la magnitud de la respuesta de salida (o magnitud de la fuerza transmitida) y la magnitud de la fuerza de excitación, la que es definida como la función de Transmisibilidad (TR) de desplazamiento:\n",
    "\n",
    "\\begin{align}\n",
    "TR&= \\left|\\frac{X(j\\omega)}{Y(j\\omega)}\\right|= {\\large \\frac{F_{t}}{F_{e}}} = \\sqrt{ \\frac{1+(2\\zeta r)^{2}}{(1-r^{2})^{2}+(2\\zeta r)^{2} }}\n",
    "\\end{align}\n",
    "\n",
    "> + donde $r = \\large\\frac{\\omega}{\\omega_{0}}$ es una razón de frecuencias (adimensional); $\\zeta = \\large\\frac{c}{2\\, m\\omega_{0}}$ es el factor de amortiguamiento viscoso (adimensional); y $\\omega_{0} = \\large\\sqrt{\\frac{k}{m}}$ es la frecuencia natural en unidades de radianes por segundo. \n",
    "\n",
    "> + Para valores típicos del factor de amortiguamiento viscoso $\\zeta$, podemos ver por ejemplo en:\n",
    ">> + https://syont.files.wordpress.com/2007/05/damping-properties-of-materials.pdf\n",
    ">> + https://cdm.ing.unimo.it/dokuwiki/_media/wikipaom2017/damping_cross-reference_and_material_properties.pdf\n",
    "\n",
    "> + Esta nueva función nos ayuda a analizar cómo el movimiento vibratorio se transmite desde la base móvil a la masa $m$, en varias regiones de frecuencia (ver por ejemplo, página 5: http://www.vibrationdata.com/tutorials2/VibrationIsolationBasics.pdf, y https://www.mne.psu.edu/lamancusa/me458/12_vibration.pdf, páginas 12.5 y 12.6).\n",
    "\n",
    "> + El valor de $TR$ es 1 cuando $r\\longrightarrow 0$ es decir, para frecuencias bajas la fuerza total de la base es transmitida a la masa $m$.\n",
    "\n",
    "> + En la región de resonancia, $r=1$, para un sistema sin amortiguamiento ($\\zeta=0$), $TR\\longrightarrow \\infty$, se amplifica dramáticamente la fuerza transmitida a la masa $m$.\n",
    "\n",
    "> + Cuando $r=\\sqrt{2}$ nuevamente la fuerza total de la base es transmitida a la masa $m$.\n",
    "\n",
    "> + El valor de $TR<1$ si se cumple que $r>\\sqrt{2}$, es decir, la fuerza total transmitida a la masa comienza a disminuir en frecuencias altas para $\\forall$ $\\zeta$, (funciona el aislamiento de las vibraciones).\n",
    "\n",
    "> + Aunque, se debe observar que para $r>\\sqrt{2}$, la fuerza transmitida a la masa crece si también aumenta $\\zeta$ por lo que se debe poner atención a este efecto."
   ]
  },
  {
   "cell_type": "markdown",
   "metadata": {},
   "source": [
    "### Evaluar la transmisibilidad y analizar cuán eficiente es un aislador para aislar vibraciones no deseadas.\n",
    "\n",
    "> + Suponer que la frecuencia natural de un aislador es igual a 10 Hz.\n",
    "\n",
    "> + Usar un factor de amortiguamiento viscoso igual a 7%.\n",
    "\n",
    "> + Con estos dos valores, graficar la curva de TR versus frecuencia en Hz.\n",
    "\n",
    "<p style=\"text-align:center\">\n",
    "\t<img src=\"TR.png\" alt=\"MDOF\" width=20%/></a><br>\n",
    "    <strong> Figura 1: TR vs frecuencia en Hz.</strong>\n",
    "</p>\n",
    "\n",
    "> + Calcular el valor de amplificación del aislador en resonancia debido al amortiguamiento de 7%.\n",
    "\n",
    "> + Obtener el valor de frecuencia en Hz a partir del cual el aislador comenzará a aislar la vibración no deseada.\n",
    "\n",
    "> + Evaluar la transmisibilidad en 30 Hz $\\left({\\text{TR}}_{30\\,{\\text{Hz}}}\\right)$. Expresar este valor en %. Obtener la reducción de vibración (aislación) en 30 Hz como: $1- \\left({\\text{TR}}_{30\\,{\\text{Hz}}}\\right)$. Expresar este valor en %. \n",
    "\n",
    "> + Qué pasa si agregamos amortiguamiento al asilador? Cambiemos el factor de amortiguamiento viscoso a 20%. Analizar los efectos de aislación y transmisibilidad. Graficar la curva de TR versus frecuencia sobre la misma figura anterior usando otro color.\n",
    "\n",
    "> + Con un factor de amortiguamiento viscoso a 20%, calcular el valor de amplificación del aislador en resonancia.\n",
    "\n",
    "> + Al agregar amortiguamiento al aislador, evaluar la transmisibilidad en 30 Hz y expresarla además, en %. Obtener la reducción de vibración en 30 Hz. Expresar este valor en %."
   ]
  },
  {
   "cell_type": "code",
   "execution_count": null,
   "metadata": {},
   "outputs": [],
   "source": []
  }
 ],
 "metadata": {
  "kernelspec": {
   "display_name": "Python 3",
   "language": "python",
   "name": "python3"
  },
  "language_info": {
   "codemirror_mode": {
    "name": "ipython",
    "version": 3
   },
   "file_extension": ".py",
   "mimetype": "text/x-python",
   "name": "python",
   "nbconvert_exporter": "python",
   "pygments_lexer": "ipython3",
   "version": "3.6.9"
  }
 },
 "nbformat": 4,
 "nbformat_minor": 4
}
