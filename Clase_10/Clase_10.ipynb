{
 "cells": [
  {
   "cell_type": "code",
   "execution_count": 1,
   "metadata": {},
   "outputs": [
    {
     "data": {
      "text/html": [
       "<!-- Mejorar visualización en proyector -->\n",
       "<style>\n",
       ".rendered_html {font-size: 1.2em; line-height: 150%;}\n",
       "div.prompt {min-width: 0ex; }\n",
       ".container {width:95% !important;}\n",
       "</style>\n"
      ],
      "text/plain": [
       "<IPython.core.display.HTML object>"
      ]
     },
     "metadata": {},
     "output_type": "display_data"
    }
   ],
   "source": [
    "%%HTML\n",
    "<!-- Mejorar visualización en proyector -->\n",
    "<style>\n",
    ".rendered_html {font-size: 1.2em; line-height: 150%;}\n",
    "div.prompt {min-width: 0ex; }\n",
    ".container {width:95% !important;}\n",
    "</style>"
   ]
  },
  {
   "cell_type": "markdown",
   "metadata": {},
   "source": [
    "<h1 style=\"text-align:center\">Clase 10: Control y aislamiento de las vibraciones </h1>\n",
    "<h3 style=\"text-align:center\">ACUS125: Aislamiento y Análisis de Vibraciones</h3>\n",
    "<p style=\"text-align:center\">Dr. Víctor Poblete <br>\n",
    "<a href=\"mailto:vpoblete@uach.cl\">vpoblete@uach.cl</a><br>\n",
    "<a href=\"https://github.com/vpobleteacustica/ACUS125-Aislamiento-y-Analisis-de-Vibraciones\">https://github.com/vpobleteacustica/ACUS125-Aislamiento-y-Analisis-de-Vibraciones</a><br> \n",
    "<a href=\"http://www.acusticauach.cl\">www.acusticauach.cl</a><br> "
   ]
  },
  {
   "cell_type": "markdown",
   "metadata": {},
   "source": [
    "### Control de las vibraciones:\n",
    "\n",
    "> + La rigidez $k$, el amortiguamiento $c$ y la masa $m$, cumplen roles importantes en el comportamiento de las funciones de transferencia en distintos rangos de frecuencia. Esto tiene importancia a su vez, en el control de las vibraciones.\n",
    "\n",
    "> + Por ejemplo, la magnitud de la función de transferencia que representa el desplazamiento sobre la fuerza, llamada receptancia está dada por:\n",
    "\n",
    "\\begin{align*}\n",
    "\\left|\\frac{X(j\\omega)}{F(j\\omega)}\\right|&=\\large \\frac{1}{m}\\frac{1}{\\sqrt{(\\omega_{0}^{2}-\\omega^{2})^{2}+(2\\zeta \\omega\\omega_{0})^{2} }}\n",
    "\\end{align*}\n",
    "\n",
    "> + Análisis por regiones de frecuencia (ver por ejemplo, capítulo 2.10: https://engfac.cooper.edu/pages/tzavelis/uploads/Vibration%20Theory.pdf):\n",
    "\n",
    ">> + Cuando $\\omega << \\omega_{0}:$ $\\quad$ $\\large\\left|\\frac{X(j\\omega)}{F(j\\omega)}\\right| \\longrightarrow \\large\\frac{1}{k}$ $\\quad$ se dice que el sistema vibratorio está controlado por el resorte.\n",
    "\n",
    ">> + Cuando $\\omega = \\omega_{0}:$ $\\quad$ $\\large\\left|\\frac{X(j\\omega)}{F(j\\omega)}\\right| \\longrightarrow \\large \\frac{1}{c\\cdot \\omega_{0}}$ $\\quad$ se dice que el sistema vibratorio está controlado por el amortiguador.\n",
    "\n",
    ">> + Cuando $\\omega >> \\omega_{0}:$ $\\quad$ $\\large\\left|\\frac{X(j\\omega)}{F(j\\omega)}\\right| \\longrightarrow \\large\\frac{1}{m\\cdot \\omega^{2}}$ $\\quad$ se dice que el sistema vibratorio está controlado por la masa.\n",
    "\n",
    "<p style=\"text-align:center\">\n",
    "\t<img src=\"CONTROLLED.png\" alt=\"MDOF\" width=25%/></a><br>\n",
    "    <strong> Figura 1: Tres condiciones de frecuencia para control de vibraciones.</strong>\n",
    "</p>\n",
    "\n",
    "> + Ver interesante animación en: https://www.acs.psu.edu/drussell/Demos/Resonance-Regions/Resonance.html"
   ]
  },
  {
   "cell_type": "markdown",
   "metadata": {},
   "source": [
    "### Analizar en frecuencia el movimiento que se transmite desde una base móvil hasta una masa\n",
    "\n",
    "> + La excitación está en la base como se muestra en la Figura 2:\n",
    "\n",
    "<p style=\"text-align:center\">\n",
    "\t<img src=\"MovimientoBase.png\" alt=\"MDOF\" width=25%/></a><br>\n",
    "    <strong> Figura 2: Base en vibración $y(t)$. Meirovitch, pag. 128.</strong>\n",
    "</p>\n",
    "\n",
    "> + La masa es lo que nos interesa proteger de las vibraciones.\n",
    "\n",
    "> + La magnitud de la fuerza de excitación será $y(t)$ y en este problema, esta magnitud está dada en términos de un desplazamiento.\n",
    "\n",
    "> + La salida o respuesta del movimiento vibratorio de la masa está dada por $x(t)$.\n",
    "\n",
    "> + Queremos cuantificar (conocer) la magnitud de la fuerza transmitida a la masa $m$.\n",
    "\n",
    "> + Del diagrama de cuerpo libre, obtenemos:\n",
    "\n",
    "\\begin{align*}\n",
    "m\\ddot{x}(t)+c\\,(\\dot{x}(t)-\\dot{y}(t)) + k\\,(x(t)-y(t))& =0\n",
    "\\end{align*}\n",
    "\n",
    "\\begin{align*}\n",
    "\\ddot{x}(t)+2\\zeta \\omega_{0}\\,(\\dot{x}(t)-\\dot{y}(t))+\\omega_{0}^{2}\\,(x(t)-y(t))& =0\n",
    "\\end{align*}\n",
    "\n",
    "\\begin{align*}\n",
    "\\ddot{x}(t)+2\\zeta \\omega_{0}\\,\\dot{x}(t) +\\omega_{0}^{2}x(t)&= 2\\zeta\\omega_{0}\\dot{y}(t)+\\omega_{0}^{2}y(t)\\quad \\,\\,\\,{\\large/}\\mathscr{F}\\left\\{\\cdot\\right\\}\n",
    "\\end{align*}\n",
    "\n",
    "> + $\\ldots$"
   ]
  },
  {
   "cell_type": "markdown",
   "metadata": {},
   "source": [
    "### Función de Transmisibilidad\n",
    "\n",
    ">+ Podemos obtener la razón entre la magnitud de la respuesta de salida (o magnitud de la fuerza transmitida) y la magnitud de la fuerza de excitación, la que es definida como la función de Transmisibilidad (TR) de desplazamiento:\n",
    "\n",
    "\\begin{align*}\n",
    "TR&= \\left|\\frac{X(j\\omega)}{Y(j\\omega)}\\right|= {\\large \\frac{F_{t}}{F_{e}}} = \\sqrt{ \\frac{1+(2\\zeta r)^{2}}{(1-r^{2})^{2}+(2\\zeta r)^{2} }}\n",
    "\\end{align*}\n",
    "\n",
    "> + Esta nueva función nos ayuda a analizar cómo el movimiento vibratorio se transmite desde la base móvil a la masa $m$, en varias regiones de frecuencia (ver por ejemplo, página 5: http://www.vibrationdata.com/tutorials2/VibrationIsolationBasics.pdf, y https://www.mne.psu.edu/lamancusa/me458/12_vibration.pdf, páginas 12.5 y 12.6).\n",
    "\n",
    "> + El valor de $TR$ es 1 cuando $r\\longrightarrow 0$ es decir, para frecuencias bajas la fuerza total de la base es transmitida a la masa $m$.\n",
    "\n",
    "> + En la región de resonancia, $r=1$, para un sistema sin amortiguamiento ($\\zeta=0$), $TR\\longrightarrow \\infty$, se amplifica dramáticamente la fuerza transmitida a la masa $m$.\n",
    "\n",
    "> + Cuando $r=\\sqrt{2}$ nuevamente la fuerza total de la base es transmitida a la masa $m$.\n",
    "\n",
    "> + El valor de $TR<1$ si se cumple que $r>\\sqrt{2}$, es decir, la fuerza total transmitida a la masa comienza a disminuir en frecuencias altas para $\\forall$ $\\zeta$, (funciona el aislamiento de las vibraciones).\n",
    "\n",
    "> + Aunque, se debe observar que para $r>\\sqrt{2}$, la fuerza transmitida a la masa crece si también aumenta $\\zeta$ por lo que se debe poner atención a este efecto."
   ]
  },
  {
   "cell_type": "code",
   "execution_count": null,
   "metadata": {},
   "outputs": [],
   "source": []
  }
 ],
 "metadata": {
  "kernelspec": {
   "display_name": "acus125-env",
   "language": "python",
   "name": "acus125-env"
  },
  "language_info": {
   "codemirror_mode": {
    "name": "ipython",
    "version": 3
   },
   "file_extension": ".py",
   "mimetype": "text/x-python",
   "name": "python",
   "nbconvert_exporter": "python",
   "pygments_lexer": "ipython3",
   "version": "3.8.3"
  }
 },
 "nbformat": 4,
 "nbformat_minor": 4
}
